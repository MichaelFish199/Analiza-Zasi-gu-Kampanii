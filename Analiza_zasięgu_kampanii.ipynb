{
 "cells": [
  {
   "cell_type": "markdown",
   "id": "3648f4e4",
   "metadata": {},
   "source": [
    "### Analiza zasięgu kampanii marketingowej w social mediach przy współpracy z influencerami"
   ]
  },
  {
   "cell_type": "markdown",
   "id": "df720965",
   "metadata": {},
   "source": [
    "Przesiębiorstwo rozważa podjęcie współpracy z 10 gumisiami-blogerami (inluencerami) w celu promocji swojego nowego produktu <b>P2</b>. \n",
    "\n",
    "Załączony plik przedstawia wyniki ankiety, w której 1000 respondentów odpowiadało na pytanie, czy w ostatnim tygodniu widziało reklamę innego produktu <b>P</b> przedsiębiorstwa w mediach społecznościowych 10 analizowanych gumisiów (każdy respondent mógł widzieć reklamę produktu P1 w social mediach u 0, 1, 2 aż do 10 influencerów). Niestety aktualny budżet nie pozwala na zakup reklamy u wszystkich 10 blogerów, lecz wyłącznie u 5.\n",
    "\n",
    "Na podstawie ankiety chcemy przeanalizować indywidualne (każdego influencera z osobna) oraz grupowe (w poszczególnych podgrupach 2, 3... influencerów) zasięgi  *blogerów* wśród respondentów (możliwości dotarcia rozumiane jako zobaczenie reklamy). \n",
    "***Zasięg mediowy jest wskaźnikiem pokazującym odsetek osób, który miał kontakt z wybraną reklamą w wybranym okresie czasowym. Celem kampanii jest maksymalizacja takiego zasięgu - chcemy, by jak największa liczba respondentów zobaczyła reklamę u minimum 1 influencera (blogera). Jeżeli zasięg kampanii wynosi np. 90%, oznacza to, że 90% (900 z 1000) respondentów widziało reklamę danego produktu choć raz w mediach społecznościowych analizowanych influencerów.***"
   ]
  },
  {
   "cell_type": "markdown",
   "id": "b59ffd91",
   "metadata": {},
   "source": [
    "## Spis treści\n",
    "- [1 - Importing Libraries](#1)\n",
    "- [2 - Loading Dataframe](#2)\n",
    "- [3 - Data Cleaning](#3)\n",
    "- [4 - Data Analysis](#4)"
   ]
  },
  {
   "cell_type": "markdown",
   "id": "6f81b597",
   "metadata": {},
   "source": [
    "<a name='1'></a>\n",
    "## 🔷 Importing Libraries"
   ]
  },
  {
   "cell_type": "code",
   "execution_count": 1,
   "id": "42f3d4c4",
   "metadata": {},
   "outputs": [
    {
     "name": "stdout",
     "output_type": "stream",
     "text": [
      "Pandas version: 1.4.2\n",
      "Numpy version: 1.21.5\n",
      "Sklearn version: 1.0.2\n",
      "Matplotlib version: 3.5.1\n",
      "Seaborn version: 0.11.2\n"
     ]
    }
   ],
   "source": [
    "import itertools\n",
    "import pandas as pd\n",
    "import numpy as np\n",
    "import sklearn as skl\n",
    "import matplotlib as mat\n",
    "import seaborn as sns\n",
    "\n",
    "import matplotlib.pyplot as plt\n",
    "from sklearn.decomposition import PCA\n",
    "\n",
    "print(f\"Pandas version: {pd.__version__}\")\n",
    "print(f\"Numpy version: {np.__version__}\")\n",
    "print(f\"Sklearn version: {skl.__version__}\")\n",
    "print(f\"Matplotlib version: {mat.__version__}\")\n",
    "print(f\"Seaborn version: {sns.__version__}\")"
   ]
  },
  {
   "cell_type": "markdown",
   "id": "2066f647",
   "metadata": {},
   "source": [
    "<b>Moje Wersje Bibliotek:</b><br>\n",
    "\n",
    "- Pandas version: 1.4.2<br>\n",
    "- Numpy version: 1.21.5<br>\n",
    "- Sklearn version: 1.0.2<br>\n",
    "- Matplotlib version: 3.5.1<br>\n",
    "- Seaborn version: 0.11.2<br>"
   ]
  },
  {
   "cell_type": "markdown",
   "id": "66c2fca6",
   "metadata": {},
   "source": [
    "<a name='2'></a>\n",
    "## 🔷 Loading Dataframe"
   ]
  },
  {
   "cell_type": "code",
   "execution_count": 2,
   "id": "58c534a0",
   "metadata": {},
   "outputs": [
    {
     "data": {
      "text/html": [
       "<div>\n",
       "<style scoped>\n",
       "    .dataframe tbody tr th:only-of-type {\n",
       "        vertical-align: middle;\n",
       "    }\n",
       "\n",
       "    .dataframe tbody tr th {\n",
       "        vertical-align: top;\n",
       "    }\n",
       "\n",
       "    .dataframe thead th {\n",
       "        text-align: right;\n",
       "    }\n",
       "</style>\n",
       "<table border=\"1\" class=\"dataframe\">\n",
       "  <thead>\n",
       "    <tr style=\"text-align: right;\">\n",
       "      <th></th>\n",
       "      <th>Zummi</th>\n",
       "      <th>Gruffi</th>\n",
       "      <th>Grammi</th>\n",
       "      <th>Tummi</th>\n",
       "      <th>Sunni</th>\n",
       "      <th>Cubbi</th>\n",
       "      <th>Sir Thornberry</th>\n",
       "      <th>Gusto</th>\n",
       "      <th>Chummi</th>\n",
       "      <th>Sir Gallant</th>\n",
       "    </tr>\n",
       "  </thead>\n",
       "  <tbody>\n",
       "    <tr>\n",
       "      <th>0</th>\n",
       "      <td>Nie Widział</td>\n",
       "      <td>Nie Widział</td>\n",
       "      <td>Nie Widział</td>\n",
       "      <td>Nie Widział</td>\n",
       "      <td>Widział</td>\n",
       "      <td>Widział</td>\n",
       "      <td>Nie Widział</td>\n",
       "      <td>Nie Widział</td>\n",
       "      <td>Nie Widział</td>\n",
       "      <td>Nie Widział</td>\n",
       "    </tr>\n",
       "    <tr>\n",
       "      <th>1</th>\n",
       "      <td>Widział</td>\n",
       "      <td>Nie Widział</td>\n",
       "      <td>Widział</td>\n",
       "      <td>Widział</td>\n",
       "      <td>Widział</td>\n",
       "      <td>Widział</td>\n",
       "      <td>Nie Widział</td>\n",
       "      <td>Widział</td>\n",
       "      <td>Nie Widział</td>\n",
       "      <td>Widział</td>\n",
       "    </tr>\n",
       "    <tr>\n",
       "      <th>2</th>\n",
       "      <td>Widział</td>\n",
       "      <td>Nie Widział</td>\n",
       "      <td>Widział</td>\n",
       "      <td>Nie Widział</td>\n",
       "      <td>Widział</td>\n",
       "      <td>Widział</td>\n",
       "      <td>Widział</td>\n",
       "      <td>Widział</td>\n",
       "      <td>Nie Widział</td>\n",
       "      <td>Widział</td>\n",
       "    </tr>\n",
       "    <tr>\n",
       "      <th>3</th>\n",
       "      <td>Nie Widział</td>\n",
       "      <td>Nie Widział</td>\n",
       "      <td>Nie Widział</td>\n",
       "      <td>Widział</td>\n",
       "      <td>Widział</td>\n",
       "      <td>Nie Widział</td>\n",
       "      <td>Nie Widział</td>\n",
       "      <td>Nie Widział</td>\n",
       "      <td>Nie Widział</td>\n",
       "      <td>Nie Widział</td>\n",
       "    </tr>\n",
       "    <tr>\n",
       "      <th>4</th>\n",
       "      <td>Widział</td>\n",
       "      <td>Widział</td>\n",
       "      <td>Widział</td>\n",
       "      <td>Nie Widział</td>\n",
       "      <td>Nie Widział</td>\n",
       "      <td>Widział</td>\n",
       "      <td>Nie Widział</td>\n",
       "      <td>Nie Widział</td>\n",
       "      <td>Widział</td>\n",
       "      <td>Widział</td>\n",
       "    </tr>\n",
       "  </tbody>\n",
       "</table>\n",
       "</div>"
      ],
      "text/plain": [
       "         Zummi       Gruffi       Grammi        Tummi        Sunni  \\\n",
       "0  Nie Widział  Nie Widział  Nie Widział  Nie Widział      Widział   \n",
       "1      Widział  Nie Widział      Widział      Widział      Widział   \n",
       "2      Widział  Nie Widział      Widział  Nie Widział      Widział   \n",
       "3  Nie Widział  Nie Widział  Nie Widział      Widział      Widział   \n",
       "4      Widział      Widział      Widział  Nie Widział  Nie Widział   \n",
       "\n",
       "         Cubbi Sir Thornberry        Gusto       Chummi  Sir Gallant  \n",
       "0      Widział    Nie Widział  Nie Widział  Nie Widział  Nie Widział  \n",
       "1      Widział    Nie Widział      Widział  Nie Widział      Widział  \n",
       "2      Widział        Widział      Widział  Nie Widział      Widział  \n",
       "3  Nie Widział    Nie Widział  Nie Widział  Nie Widział  Nie Widział  \n",
       "4      Widział    Nie Widział  Nie Widział      Widział      Widział  "
      ]
     },
     "execution_count": 2,
     "metadata": {},
     "output_type": "execute_result"
    }
   ],
   "source": [
    "# Wczytanie danych z poprawnymi parametrami\n",
    "df = pd.read_csv('Zadanie_rekrutacyjne.csv', sep=\";\", index_col=0)\n",
    "\n",
    "# Wyświetlenie pierwszych wierszy\n",
    "df.head()"
   ]
  },
  {
   "cell_type": "markdown",
   "id": "6a4c5448",
   "metadata": {},
   "source": [
    "Z tego co widać na pierwszy rzut oka to dane składają się ze stringów 'Widział' i 'Nie Widział' co trzeba będzie zakodować przez analizą."
   ]
  },
  {
   "cell_type": "code",
   "execution_count": 3,
   "id": "987df573",
   "metadata": {},
   "outputs": [
    {
     "data": {
      "text/plain": [
       "(1000, 10)"
      ]
     },
     "execution_count": 3,
     "metadata": {},
     "output_type": "execute_result"
    }
   ],
   "source": [
    "# Sprawdzanie wymiarów danych\n",
    "df.shape"
   ]
  },
  {
   "cell_type": "markdown",
   "id": "5f74babf",
   "metadata": {},
   "source": [
    "Dane posiadaja 1000 wierszy(respondentów) i 10 kolumn(influencerów) tak jak w poleceniu."
   ]
  },
  {
   "cell_type": "code",
   "execution_count": 4,
   "id": "ef226da1",
   "metadata": {},
   "outputs": [
    {
     "name": "stdout",
     "output_type": "stream",
     "text": [
      "<class 'pandas.core.frame.DataFrame'>\n",
      "Int64Index: 1000 entries, 0 to 999\n",
      "Data columns (total 10 columns):\n",
      " #   Column          Non-Null Count  Dtype \n",
      "---  ------          --------------  ----- \n",
      " 0   Zummi           984 non-null    object\n",
      " 1   Gruffi          984 non-null    object\n",
      " 2   Grammi          979 non-null    object\n",
      " 3   Tummi           989 non-null    object\n",
      " 4   Sunni           979 non-null    object\n",
      " 5   Cubbi           985 non-null    object\n",
      " 6   Sir Thornberry  985 non-null    object\n",
      " 7   Gusto           987 non-null    object\n",
      " 8   Chummi          982 non-null    object\n",
      " 9   Sir Gallant     986 non-null    object\n",
      "dtypes: object(10)\n",
      "memory usage: 85.9+ KB\n"
     ]
    }
   ],
   "source": [
    "# Sprawdzenie typów kolumn\n",
    "df.info()"
   ]
  },
  {
   "cell_type": "markdown",
   "id": "62bf0da3",
   "metadata": {},
   "source": [
    "Wszyzstkie typy są obiektem co nie jest zaskoczeniem."
   ]
  },
  {
   "cell_type": "markdown",
   "id": "25074b18",
   "metadata": {},
   "source": [
    "<a name='3'></a>\n",
    "## 🔷 Data Cleaning\n",
    "- Radzenie sobie z brakującymi wartościami\n",
    "- Kodowanie (Widział': 1, 'Nie Widział': 0)"
   ]
  },
  {
   "cell_type": "markdown",
   "id": "cf086a45",
   "metadata": {},
   "source": [
    "### Radzenie sobie z brakującymi wartościami\n",
    "Imputacja brakujących wartości"
   ]
  },
  {
   "cell_type": "code",
   "execution_count": 5,
   "id": "144f5b04",
   "metadata": {},
   "outputs": [
    {
     "data": {
      "text/plain": [
       "Zummi             16\n",
       "Gruffi            16\n",
       "Grammi            21\n",
       "Tummi             11\n",
       "Sunni             21\n",
       "Cubbi             15\n",
       "Sir Thornberry    15\n",
       "Gusto             13\n",
       "Chummi            18\n",
       "Sir Gallant       14\n",
       "dtype: int64"
      ]
     },
     "execution_count": 5,
     "metadata": {},
     "output_type": "execute_result"
    }
   ],
   "source": [
    "# Sprawdzenie braków danych\n",
    "df.isnull().sum()"
   ]
  },
  {
   "cell_type": "markdown",
   "id": "60892175",
   "metadata": {},
   "source": [
    "Jak widzimy każda kolumna zawiera kilka brakujących wartości.<br>\n",
    "\n",
    "Imputowanie lub przewidywanie tego czy dany respondent widział produkt P1 nie wchodzi w gre, ponieważ nie posiadamy wystarczającej ilości informacji(dobrych cech) aby w 100% przewidizeć że produkt P1 był widziany przez danego respondenta.\n",
    "<b>Jako że interesuje nas informacja czy respondent widział produkt P1, wartości NaN powinny być zamienione na \"Nie Widział\".</b> Usunięcie wierszy z brakującymi wartościami może spowodować utratę informacji o tym czy respondent widział produkt u influencerów."
   ]
  },
  {
   "cell_type": "code",
   "execution_count": 6,
   "id": "5ae3cca3",
   "metadata": {},
   "outputs": [
    {
     "data": {
      "text/plain": [
       "Zummi             0\n",
       "Gruffi            0\n",
       "Grammi            0\n",
       "Tummi             0\n",
       "Sunni             0\n",
       "Cubbi             0\n",
       "Sir Thornberry    0\n",
       "Gusto             0\n",
       "Chummi            0\n",
       "Sir Gallant       0\n",
       "dtype: int64"
      ]
     },
     "execution_count": 6,
     "metadata": {},
     "output_type": "execute_result"
    }
   ],
   "source": [
    "# Zamiana wartości NaN na \"Nie Widział\"\n",
    "df_filled = df.fillna('Nie Widział')\n",
    "\n",
    "# Ponowne sprawdzenie brakujących wartości\n",
    "df_filled.isnull().sum()"
   ]
  },
  {
   "cell_type": "markdown",
   "id": "afd62ae7",
   "metadata": {},
   "source": [
    "Jak widać nie mamy jużbrakujących wartości."
   ]
  },
  {
   "cell_type": "markdown",
   "id": "2d7e0ce5",
   "metadata": {},
   "source": [
    "### Kodowanie (Widział': 1, 'Nie Widział': 0)\n",
    "\n",
    "W tym kroku koduje wartości: Widział' na 1, 'Nie Widział' na 0"
   ]
  },
  {
   "cell_type": "code",
   "execution_count": 7,
   "id": "d6695731",
   "metadata": {},
   "outputs": [
    {
     "data": {
      "text/html": [
       "<div>\n",
       "<style scoped>\n",
       "    .dataframe tbody tr th:only-of-type {\n",
       "        vertical-align: middle;\n",
       "    }\n",
       "\n",
       "    .dataframe tbody tr th {\n",
       "        vertical-align: top;\n",
       "    }\n",
       "\n",
       "    .dataframe thead th {\n",
       "        text-align: right;\n",
       "    }\n",
       "</style>\n",
       "<table border=\"1\" class=\"dataframe\">\n",
       "  <thead>\n",
       "    <tr style=\"text-align: right;\">\n",
       "      <th></th>\n",
       "      <th>Zummi</th>\n",
       "      <th>Gruffi</th>\n",
       "      <th>Grammi</th>\n",
       "      <th>Tummi</th>\n",
       "      <th>Sunni</th>\n",
       "      <th>Cubbi</th>\n",
       "      <th>Sir Thornberry</th>\n",
       "      <th>Gusto</th>\n",
       "      <th>Chummi</th>\n",
       "      <th>Sir Gallant</th>\n",
       "    </tr>\n",
       "  </thead>\n",
       "  <tbody>\n",
       "    <tr>\n",
       "      <th>0</th>\n",
       "      <td>0</td>\n",
       "      <td>0</td>\n",
       "      <td>0</td>\n",
       "      <td>0</td>\n",
       "      <td>1</td>\n",
       "      <td>1</td>\n",
       "      <td>0</td>\n",
       "      <td>0</td>\n",
       "      <td>0</td>\n",
       "      <td>0</td>\n",
       "    </tr>\n",
       "    <tr>\n",
       "      <th>1</th>\n",
       "      <td>1</td>\n",
       "      <td>0</td>\n",
       "      <td>1</td>\n",
       "      <td>1</td>\n",
       "      <td>1</td>\n",
       "      <td>1</td>\n",
       "      <td>0</td>\n",
       "      <td>1</td>\n",
       "      <td>0</td>\n",
       "      <td>1</td>\n",
       "    </tr>\n",
       "    <tr>\n",
       "      <th>2</th>\n",
       "      <td>1</td>\n",
       "      <td>0</td>\n",
       "      <td>1</td>\n",
       "      <td>0</td>\n",
       "      <td>1</td>\n",
       "      <td>1</td>\n",
       "      <td>1</td>\n",
       "      <td>1</td>\n",
       "      <td>0</td>\n",
       "      <td>1</td>\n",
       "    </tr>\n",
       "    <tr>\n",
       "      <th>3</th>\n",
       "      <td>0</td>\n",
       "      <td>0</td>\n",
       "      <td>0</td>\n",
       "      <td>1</td>\n",
       "      <td>1</td>\n",
       "      <td>0</td>\n",
       "      <td>0</td>\n",
       "      <td>0</td>\n",
       "      <td>0</td>\n",
       "      <td>0</td>\n",
       "    </tr>\n",
       "    <tr>\n",
       "      <th>4</th>\n",
       "      <td>1</td>\n",
       "      <td>1</td>\n",
       "      <td>1</td>\n",
       "      <td>0</td>\n",
       "      <td>0</td>\n",
       "      <td>1</td>\n",
       "      <td>0</td>\n",
       "      <td>0</td>\n",
       "      <td>1</td>\n",
       "      <td>1</td>\n",
       "    </tr>\n",
       "  </tbody>\n",
       "</table>\n",
       "</div>"
      ],
      "text/plain": [
       "  Zummi Gruffi Grammi Tummi Sunni Cubbi Sir Thornberry Gusto Chummi  \\\n",
       "0     0      0      0     0     1     1              0     0      0   \n",
       "1     1      0      1     1     1     1              0     1      0   \n",
       "2     1      0      1     0     1     1              1     1      0   \n",
       "3     0      0      0     1     1     0              0     0      0   \n",
       "4     1      1      1     0     0     1              0     0      1   \n",
       "\n",
       "  Sir Gallant  \n",
       "0           0  \n",
       "1           1  \n",
       "2           1  \n",
       "3           0  \n",
       "4           1  "
      ]
     },
     "execution_count": 7,
     "metadata": {},
     "output_type": "execute_result"
    }
   ],
   "source": [
    "import pandas as pd\n",
    "\n",
    "# Mapowanie wartości 'Widział' na 1 i 'Nie Widział' na 0\n",
    "df_mapped = df_filled.replace({'Widział': 1, 'Nie Widział': 0})\n",
    "\n",
    "# Wyświetlanie danych po mapowaniu\n",
    "df_mapped.head()"
   ]
  },
  {
   "cell_type": "markdown",
   "id": "229d392c",
   "metadata": {},
   "source": [
    "Jak widać dane wyglądają poprawnie<br>\n",
    "Sprawdzimy jeszcze czy nie było jakichś innych wartości za pomocą metody info()"
   ]
  },
  {
   "cell_type": "code",
   "execution_count": 8,
   "id": "0cbffd6f",
   "metadata": {},
   "outputs": [
    {
     "name": "stdout",
     "output_type": "stream",
     "text": [
      "<class 'pandas.core.frame.DataFrame'>\n",
      "Int64Index: 1000 entries, 0 to 999\n",
      "Data columns (total 10 columns):\n",
      " #   Column          Non-Null Count  Dtype \n",
      "---  ------          --------------  ----- \n",
      " 0   Zummi           1000 non-null   object\n",
      " 1   Gruffi          1000 non-null   object\n",
      " 2   Grammi          1000 non-null   object\n",
      " 3   Tummi           1000 non-null   object\n",
      " 4   Sunni           1000 non-null   object\n",
      " 5   Cubbi           1000 non-null   object\n",
      " 6   Sir Thornberry  1000 non-null   object\n",
      " 7   Gusto           1000 non-null   object\n",
      " 8   Chummi          1000 non-null   object\n",
      " 9   Sir Gallant     1000 non-null   object\n",
      "dtypes: object(10)\n",
      "memory usage: 85.9+ KB\n"
     ]
    }
   ],
   "source": [
    "# Sprawdzenie typów danych po mapowaniu\n",
    "df_mapped.info()"
   ]
  },
  {
   "cell_type": "markdown",
   "id": "845101f7",
   "metadata": {},
   "source": [
    "Jak widać w naszysch danych występują nadal jakieś niechciane wartości.<br>\n",
    "Zamierzam sprawdzić unikalne wartości każdej z kolumn."
   ]
  },
  {
   "cell_type": "code",
   "execution_count": 9,
   "id": "3eab96bf",
   "metadata": {},
   "outputs": [
    {
     "data": {
      "text/html": [
       "<div>\n",
       "<style scoped>\n",
       "    .dataframe tbody tr th:only-of-type {\n",
       "        vertical-align: middle;\n",
       "    }\n",
       "\n",
       "    .dataframe tbody tr th {\n",
       "        vertical-align: top;\n",
       "    }\n",
       "\n",
       "    .dataframe thead th {\n",
       "        text-align: right;\n",
       "    }\n",
       "</style>\n",
       "<table border=\"1\" class=\"dataframe\">\n",
       "  <thead>\n",
       "    <tr style=\"text-align: right;\">\n",
       "      <th></th>\n",
       "      <th>Zummi</th>\n",
       "      <th>Gruffi</th>\n",
       "      <th>Grammi</th>\n",
       "      <th>Tummi</th>\n",
       "      <th>Sunni</th>\n",
       "      <th>Cubbi</th>\n",
       "      <th>Sir Thornberry</th>\n",
       "      <th>Gusto</th>\n",
       "      <th>Chummi</th>\n",
       "      <th>Sir Gallant</th>\n",
       "    </tr>\n",
       "  </thead>\n",
       "  <tbody>\n",
       "    <tr>\n",
       "      <th>0</th>\n",
       "      <td>0</td>\n",
       "      <td>0</td>\n",
       "      <td>0</td>\n",
       "      <td>0</td>\n",
       "      <td>1</td>\n",
       "      <td>1</td>\n",
       "      <td>0</td>\n",
       "      <td>0</td>\n",
       "      <td>0</td>\n",
       "      <td>0</td>\n",
       "    </tr>\n",
       "    <tr>\n",
       "      <th>1</th>\n",
       "      <td>1</td>\n",
       "      <td>1</td>\n",
       "      <td>1</td>\n",
       "      <td>1</td>\n",
       "      <td>0</td>\n",
       "      <td>0</td>\n",
       "      <td>1</td>\n",
       "      <td>1</td>\n",
       "      <td>1</td>\n",
       "      <td>1</td>\n",
       "    </tr>\n",
       "    <tr>\n",
       "      <th>2</th>\n",
       "      <td>Widzial</td>\n",
       "      <td>Widzial</td>\n",
       "      <td>nie</td>\n",
       "      <td>nie widzial</td>\n",
       "      <td>Widzial</td>\n",
       "      <td>nie widzial</td>\n",
       "      <td>Widzial</td>\n",
       "      <td>Widzi al</td>\n",
       "      <td>nie widzial</td>\n",
       "      <td>Widzial</td>\n",
       "    </tr>\n",
       "    <tr>\n",
       "      <th>3</th>\n",
       "      <td>Widzi al</td>\n",
       "      <td>nie widzial</td>\n",
       "      <td>nie widzial</td>\n",
       "      <td>tak</td>\n",
       "      <td>nie</td>\n",
       "      <td>Widzial</td>\n",
       "      <td>tak</td>\n",
       "      <td>Widzial</td>\n",
       "      <td>Widzial</td>\n",
       "      <td>nie widzial</td>\n",
       "    </tr>\n",
       "    <tr>\n",
       "      <th>4</th>\n",
       "      <td>nie widzial</td>\n",
       "      <td>nie</td>\n",
       "      <td>Widzial</td>\n",
       "      <td>Widzi al</td>\n",
       "      <td>nie widzial</td>\n",
       "      <td>tak</td>\n",
       "      <td>Widzi al</td>\n",
       "      <td>nie widzial</td>\n",
       "      <td>nie</td>\n",
       "      <td>nie</td>\n",
       "    </tr>\n",
       "    <tr>\n",
       "      <th>5</th>\n",
       "      <td>nie</td>\n",
       "      <td>Widzi al</td>\n",
       "      <td>tak</td>\n",
       "      <td>Widzial</td>\n",
       "      <td>tak</td>\n",
       "      <td>nie</td>\n",
       "      <td>nie widzial</td>\n",
       "      <td>tak</td>\n",
       "      <td>Widzi al</td>\n",
       "      <td>Widzi al</td>\n",
       "    </tr>\n",
       "    <tr>\n",
       "      <th>6</th>\n",
       "      <td>tak</td>\n",
       "      <td>tak</td>\n",
       "      <td>Widzi al</td>\n",
       "      <td>nie</td>\n",
       "      <td>Widzi al</td>\n",
       "      <td>Widzi al</td>\n",
       "      <td>nie</td>\n",
       "      <td>nie</td>\n",
       "      <td>tak</td>\n",
       "      <td>tak</td>\n",
       "    </tr>\n",
       "  </tbody>\n",
       "</table>\n",
       "</div>"
      ],
      "text/plain": [
       "         Zummi       Gruffi       Grammi        Tummi        Sunni  \\\n",
       "0            0            0            0            0            1   \n",
       "1            1            1            1            1            0   \n",
       "2      Widzial      Widzial          nie  nie widzial      Widzial   \n",
       "3     Widzi al  nie widzial  nie widzial          tak          nie   \n",
       "4  nie widzial          nie      Widzial     Widzi al  nie widzial   \n",
       "5          nie     Widzi al          tak      Widzial          tak   \n",
       "6          tak          tak     Widzi al          nie     Widzi al   \n",
       "\n",
       "         Cubbi Sir Thornberry        Gusto       Chummi  Sir Gallant  \n",
       "0            1              0            0            0            0  \n",
       "1            0              1            1            1            1  \n",
       "2  nie widzial        Widzial     Widzi al  nie widzial      Widzial  \n",
       "3      Widzial            tak      Widzial      Widzial  nie widzial  \n",
       "4          tak       Widzi al  nie widzial          nie          nie  \n",
       "5          nie    nie widzial          tak     Widzi al     Widzi al  \n",
       "6     Widzi al            nie          nie          tak          tak  "
      ]
     },
     "execution_count": 9,
     "metadata": {},
     "output_type": "execute_result"
    }
   ],
   "source": [
    "# Uzyskanie unikalnych wartości dla każdej kolumny\n",
    "df_mapped.apply(pd.Series.unique)"
   ]
  },
  {
   "cell_type": "markdown",
   "id": "700256a0",
   "metadata": {},
   "source": [
    "Na powyższej tabeli widać że występują inne wartości poza 'Widział' i 'Nie Widział'<br>\n",
    "Patrząc na nie można zauważyć że da się je skategoryzować używając słowa \"nie\", gdzie jeśli string zaczyna się od \"nie\" mapujemy 0 inaczej 1"
   ]
  },
  {
   "cell_type": "code",
   "execution_count": 10,
   "id": "66439fca",
   "metadata": {},
   "outputs": [
    {
     "name": "stdout",
     "output_type": "stream",
     "text": [
      "<class 'pandas.core.frame.DataFrame'>\n",
      "Int64Index: 1000 entries, 0 to 999\n",
      "Data columns (total 10 columns):\n",
      " #   Column          Non-Null Count  Dtype\n",
      "---  ------          --------------  -----\n",
      " 0   Zummi           1000 non-null   int64\n",
      " 1   Gruffi          1000 non-null   int64\n",
      " 2   Grammi          1000 non-null   int64\n",
      " 3   Tummi           1000 non-null   int64\n",
      " 4   Sunni           1000 non-null   int64\n",
      " 5   Cubbi           1000 non-null   int64\n",
      " 6   Sir Thornberry  1000 non-null   int64\n",
      " 7   Gusto           1000 non-null   int64\n",
      " 8   Chummi          1000 non-null   int64\n",
      " 9   Sir Gallant     1000 non-null   int64\n",
      "dtypes: int64(10)\n",
      "memory usage: 85.9 KB\n"
     ]
    }
   ],
   "source": [
    "# Funkcja do mapowania wartości na 1 lub 0\n",
    "def map_value(value):\n",
    "    if isinstance(value, str):\n",
    "        if value.startswith('nie'):\n",
    "            return 0\n",
    "        else:\n",
    "            return 1\n",
    "    else:\n",
    "        return value\n",
    "\n",
    "# Zastosowanie funkcji do każdej wartości\n",
    "respondents = df_mapped.applymap(map_value)\n",
    "\n",
    "# Sprawdzenie typów danych po mapowaniu\n",
    "respondents.info()"
   ]
  },
  {
   "cell_type": "markdown",
   "id": "53a30a63",
   "metadata": {},
   "source": [
    "Wszystkie wartości są numeryczne. Dane są gotowe do analizy"
   ]
  },
  {
   "cell_type": "markdown",
   "id": "904f21fb",
   "metadata": {},
   "source": [
    "<a name='4'></a>\n",
    "## 🔷 Data Analysis\n",
    "\n",
    "- Macierz korelacji\n",
    "- Podobieństwo blogerów\n",
    "- Ilu respondentów nie widziało produktu P1?\n",
    "- Ile wynosi zasięg wybranego gumisia-blogera (każdego z osobna)?\n",
    "- Ile wynosi łączny zasięg wybranego podzbioru blogerów: 'Sunni', 'Gruffi' i 'Zummi'?\n",
    "- Których 5 wybranych influencerów powinno wybrać przedsiębiorstwo do przeprowadzenia promocji produktu P2, tak by maksymalizować zasięg swojej kampanii?\n",
    "- Jaka byłaby rekomendacja w przypadku 3 influencerów, wśród których na pewno musi znaleźć się influencer 'Tummi'?"
   ]
  },
  {
   "cell_type": "markdown",
   "id": "e7203d7a",
   "metadata": {},
   "source": [
    "### Macierz korelacji"
   ]
  },
  {
   "cell_type": "markdown",
   "id": "c9e96a35",
   "metadata": {},
   "source": [
    "Po zamienieniu danych tekstowych na dane numeryczne sprawdzam jeszcze na wszelki wypadek czy istnieją jakieś gummisie bardzo skorelowani ze sobą. Na przykład jeśli ci sami respondenci widzieli wielokrotnie produkt P1 u gumisia1 jak i również u gumisia2(Bo może blogerzy pracują ze sobą) to można tą wiedzę wykorzystać do imputowania brakujących wartości."
   ]
  },
  {
   "cell_type": "code",
   "execution_count": 11,
   "id": "4976ef07",
   "metadata": {},
   "outputs": [
    {
     "data": {
      "image/png": "[encoded data removed]",
      "text/plain": [
       "<Figure size 648x504 with 2 Axes>"
      ]
     },
     "metadata": {
      "needs_background": "light"
     },
     "output_type": "display_data"
    }
   ],
   "source": [
    "# Obliczanie podobieństwa cech\n",
    "correlation_matrix = respondents.corr()\n",
    "\n",
    "# Utworzenie maski dla górnej części trójkąta macierzy\n",
    "mask = np.triu(np.ones_like(correlation_matrix, dtype=bool))\n",
    "\n",
    "# Konfiguracja rozmiaru wykresu\n",
    "plt.figure(figsize=(9, 7))\n",
    "\n",
    "# Wygenerowanie heatmapy macierzy korelacji\n",
    "sns.heatmap(correlation_matrix, mask=mask, annot=True, cmap='coolwarm', fmt=\".2f\")\n",
    "plt.title(\"Macierz korelacji\")\n",
    "plt.show()"
   ]
  },
  {
   "cell_type": "markdown",
   "id": "6b7f8a93",
   "metadata": {},
   "source": [
    "Na macierzy nie widać dużej korelacji między kolumnami, więc nie jest możliwe ciekawsze imputowanie wartości."
   ]
  },
  {
   "cell_type": "markdown",
   "id": "e0c21c7f",
   "metadata": {},
   "source": [
    "### Jacy widzowie oglądają tych samych blogerów\n",
    "Redukcja danych do 2 wymiarów i ich wyświetlenie."
   ]
  },
  {
   "cell_type": "code",
   "execution_count": 12,
   "id": "c0a1f26b",
   "metadata": {},
   "outputs": [],
   "source": [
    "df_transposed = respondents.transpose()"
   ]
  },
  {
   "cell_type": "code",
   "execution_count": 13,
   "id": "57ea8acd",
   "metadata": {},
   "outputs": [
    {
     "data": {
      "image/png": "[encoded data removed]",
      "text/plain": [
       "<Figure size 576x504 with 1 Axes>"
      ]
     },
     "metadata": {
      "needs_background": "light"
     },
     "output_type": "display_data"
    }
   ],
   "source": [
    "# PCA\n",
    "pca = PCA(n_components=2)  # Określenie liczby komponentów\n",
    "pca.fit(df_transposed)\n",
    "\n",
    "# Transformacja danych\n",
    "transformed_data = pca.transform(df_transposed)\n",
    "\n",
    "# Konwersja danych do DataFrame\n",
    "df_transformed = pd.DataFrame(transformed_data, columns=['PC1', 'PC2'], index=df_transposed.index)\n",
    "\n",
    "# Wizualizacja z Seaborn\n",
    "plt.figure(figsize=(8, 7))\n",
    "sns.scatterplot(x='PC1', y='PC2', data=df_transformed, s=120)\n",
    "\n",
    "# Dodanie etykiet\n",
    "for i, txt in enumerate(df_transformed.index):\n",
    "    plt.annotate(txt, (df_transformed['PC1'][i], df_transformed['PC2'][i]+ 0.3), ha='center', fontsize=12)\n",
    "\n",
    "plt.title('PCA - Wizualizacja z Seaborn')\n",
    "plt.xlabel('PC1')\n",
    "plt.ylabel('PC2')\n",
    "plt.grid(True)\n",
    "plt.show()"
   ]
  },
  {
   "cell_type": "markdown",
   "id": "3c4e181d",
   "metadata": {},
   "source": [
    "Z wykresu można zauważyć że niektórzy blogerzy są bardziej podobni do siebie pod względem reklamy produktu P1. Na przykład wielu tych samych respondentów widziało produkt P1 u blogerów \"Sunni\" i \"Chummi\". Można tę informację wykorzystać do budowy szybkiego systemu, który nie daje idealnego rozwiązania, ale wykorzystuje dystans tych osób w przestrzeni wielowymiarowej i znajduje osoby najbardziej od siebie oddalone."
   ]
  },
  {
   "cell_type": "markdown",
   "id": "c816f751",
   "metadata": {},
   "source": [
    "### Ilu respondentów nie widziało produktu P1?"
   ]
  },
  {
   "cell_type": "code",
   "execution_count": 14,
   "id": "91df151a",
   "metadata": {},
   "outputs": [
    {
     "data": {
      "text/plain": [
       "2"
      ]
     },
     "execution_count": 14,
     "metadata": {},
     "output_type": "execute_result"
    }
   ],
   "source": [
    "# Sumowanie występowania wierszy z samymi zerami\n",
    "(respondents == 0).all(axis=1).sum()"
   ]
  },
  {
   "cell_type": "markdown",
   "id": "6b96f9c2",
   "metadata": {},
   "source": [
    "Dwóch respondentów z ankiety nie widziało produktu P1 ani razu. Nie pomogą oni później w analizie ale też nie zaszkodzą złożoności czasowej algorytmów bo jest ich za mało."
   ]
  },
  {
   "cell_type": "markdown",
   "id": "2f454b9f",
   "metadata": {},
   "source": [
    "### Ile wynosi zasięg wybranego gumisia-blogera (każdego z osobna)?"
   ]
  },
  {
   "cell_type": "code",
   "execution_count": 15,
   "id": "8e9041fa",
   "metadata": {},
   "outputs": [],
   "source": [
    "def calculate_bloggers_range(*args):\n",
    "    # Fukcja do obliczania zasięgu blogerów\n",
    "    # (Sumowanie ile respondentów widziało produkt P1 u każdego z blogerów)\n",
    "    total_range = 0\n",
    "    for blogger in args:\n",
    "        total_range |= respondents[blogger]\n",
    "        \n",
    "    return total_range.astype(int).sum() / 10"
   ]
  },
  {
   "cell_type": "code",
   "execution_count": 16,
   "id": "36f153a9",
   "metadata": {},
   "outputs": [
    {
     "name": "stdout",
     "output_type": "stream",
     "text": [
      "Zummi             46.3 = 46.3%\n",
      "Gruffi            46.5 = 46.5%\n",
      "Grammi            41.6 = 41.6%\n",
      "Tummi             45.7 = 45.7%\n",
      "Sunni             46.9 = 46.9%\n",
      "Cubbi             43.8 = 43.8%\n",
      "Sir Thornberry    44.7 = 44.7%\n",
      "Gusto             44.6 = 44.6%\n",
      "Chummi            45.2 = 45.2%\n",
      "Sir Gallant       46.2 = 46.2%\n"
     ]
    }
   ],
   "source": [
    "# Obliczenie indywidualnego zasięgu dla każdego blogera\n",
    "range_of_gummies = calculate_bloggers_range(list(respondents.columns))\n",
    "\n",
    "for name, value in range_of_gummies.items():\n",
    "    print(f\"{name :17} {value} = {value}%\")"
   ]
  },
  {
   "cell_type": "code",
   "execution_count": 17,
   "id": "f2ccc83b",
   "metadata": {},
   "outputs": [
    {
     "data": {
      "image/png": "[encoded data removed]",
      "text/plain": [
       "<Figure size 720x432 with 1 Axes>"
      ]
     },
     "metadata": {
      "needs_background": "light"
     },
     "output_type": "display_data"
    }
   ],
   "source": [
    "# Sortowanie zasięgów blogerów\n",
    "sorted_range = range_of_gummies.sort_values()\n",
    "\n",
    "# Tworzenie wykresu słupkowego o zasięgach influencerów\n",
    "plt.figure(figsize=(10, 6))\n",
    "sns.barplot(x=sorted_range.index, y=sorted_range)\n",
    "plt.title('Zasięgi Influencerów')\n",
    "plt.xlabel('Influencerzy')\n",
    "plt.ylabel('Zasięg mediowy(%)')\n",
    "plt.xticks(rotation=60, ha='right')\n",
    "plt.tight_layout()\n",
    "plt.show()"
   ]
  },
  {
   "cell_type": "markdown",
   "id": "90239fa1",
   "metadata": {},
   "source": [
    "Tak jak widać na wykresie najmniejszy zasięg mają tacy blogerzy jak: 'Grammi', 'Cubbi', 'Gusto' a największy 'Sunni', 'Gruffi' i 'Zummi'"
   ]
  },
  {
   "cell_type": "markdown",
   "id": "afd54b4e",
   "metadata": {},
   "source": [
    "### Ile wynosi łączny zasięg wybranego podzbioru blogerów: 'Sunni', 'Gruffi' i 'Zummi'?"
   ]
  },
  {
   "cell_type": "code",
   "execution_count": 18,
   "id": "1f2f7bad",
   "metadata": {},
   "outputs": [
    {
     "name": "stdout",
     "output_type": "stream",
     "text": [
      "Blogerzy Sunni, Gruffi i Zummi mają łączny zasięg: 85.0 %\n"
     ]
    }
   ],
   "source": [
    "# Obliczanie zasięgu dla blogerów 'Sunni', 'Gruffi' i 'Zummi'\n",
    "SunniGruffiZummi_range = calculate_bloggers_range('Sunni','Gruffi','Zummi')\n",
    "\n",
    "# Sumowanie ciągu daje nam wynik zasięgu tych podzbioru blogerów\n",
    "print(\"Blogerzy Sunni, Gruffi i Zummi mają łączny zasięg:\", SunniGruffiZummi_range, \"%\")"
   ]
  },
  {
   "cell_type": "markdown",
   "id": "fde68e53",
   "metadata": {},
   "source": [
    "Jak widać trzech najbardziej \"zasięgowych\" blogerów daje nam zasięg równy <b>85%</b>."
   ]
  },
  {
   "cell_type": "markdown",
   "id": "b699d422",
   "metadata": {},
   "source": [
    "### Których 5 wybranych influencerów powinno wybrać przedsiębiorstwo do przeprowadzenia promocji produktu P2, tak by maksymalizować zasięg swojej kampanii?"
   ]
  },
  {
   "cell_type": "markdown",
   "id": "f6d20d79",
   "metadata": {},
   "source": [
    "Istnieje 252 różnych sposobów utworzenia grupy z 5 osób spośród 10.<br>\n",
    "Nie jest to duża liczba a danych nie jest też dużo, więc można wykorzystać najprostrzą z metod \"brute force\" sprawdzając wszystkie możliwe kombinacje.<br>\n",
    "Przy większej ilości blogerów lepiej skorzystać z innych technik, takich jak: Algorytm Najdalszego sąsiada, Przeszukiwanie lokalne, Algorytmy metaheurystyczne, Programowanie liniowe."
   ]
  },
  {
   "cell_type": "markdown",
   "id": "19c2af79",
   "metadata": {},
   "source": [
    "#### Przegląd wszystkich możliwych kobinacji influencerów "
   ]
  },
  {
   "cell_type": "code",
   "execution_count": 19,
   "id": "7f8a3738",
   "metadata": {},
   "outputs": [
    {
     "name": "stdout",
     "output_type": "stream",
     "text": [
      "Najlepsza kombinacja influencerów: ('Zummi', 'Gruffi', 'Tummi', 'Sir Thornberry', 'Gusto')\n",
      "Najlepszy łączny zasięg: 96.7 %\n"
     ]
    }
   ],
   "source": [
    "# Lista influencerów\n",
    "influencers = respondents.columns\n",
    "\n",
    "# Najlepszy wynik i najlepsza kombinacja\n",
    "best_score = 0\n",
    "best_combination = None\n",
    "\n",
    "# Generowanie wszystkich kombinacji influencerów\n",
    "combinations = itertools.combinations(influencers, 5)\n",
    "\n",
    "# Iteracja przez wszystkie kombinacje\n",
    "for combo in combinations:\n",
    "    # Obliczenie łącznego zasięgu dla danej kombinacji\n",
    "    combination_score = calculate_bloggers_range(combo[0], combo[1], combo[2], combo[3], combo[4])\n",
    "    # Update najlepszego wyniku i kombinacji\n",
    "    if combination_score > best_score:\n",
    "        best_score = combination_score\n",
    "        best_combination = combo\n",
    "\n",
    "# Wyświetlenie najlepszej kombinacji i wyniku\n",
    "print(\"Najlepsza kombinacja influencerów:\", best_combination)\n",
    "print(\"Najlepszy łączny zasięg:\", best_score, \"%\")"
   ]
  },
  {
   "cell_type": "markdown",
   "id": "e0a925fe",
   "metadata": {},
   "source": [
    "Influencerzy: <b>'Zummi', 'Gruffi', 'Tummi', 'Sir Thornberry', 'Gusto'</b> łącznie mają największy zasięg wynoszący <b>96,7%</b> dlatego oni powinni zostać wybrani do przeprowadzenia promocji produktu P2"
   ]
  },
  {
   "cell_type": "markdown",
   "id": "ec88767f",
   "metadata": {},
   "source": [
    "### Jaka byłaby rekomendacja w przypadku 3 influencerów, wśród których na pewno musi znaleźć się influencer 'Tummi'?"
   ]
  },
  {
   "cell_type": "markdown",
   "id": "15425e82",
   "metadata": {},
   "source": [
    "Tu również zastosuje tą samą metodę, posiadając już kod troche go zmodyfikuję."
   ]
  },
  {
   "cell_type": "markdown",
   "id": "1e399f43",
   "metadata": {},
   "source": [
    "#### Przegląd wszystkich możliwych kobinacji influencerów"
   ]
  },
  {
   "cell_type": "code",
   "execution_count": 20,
   "id": "1830844d",
   "metadata": {},
   "outputs": [
    {
     "name": "stdout",
     "output_type": "stream",
     "text": [
      "Najlepsza kombinacja influencerów: ('Zummi', 'Gruffi', 'Tummi')\n",
      "Najlepszy łączny zasięg: 86.6 %\n"
     ]
    }
   ],
   "source": [
    "# Wybieramy bloggera który musi się znaleźć w danej grupie\n",
    "WYBRANY_INFLUENCER = \"Tummi\"\n",
    "\n",
    "# Lista influencerów z usunięciem 'Tummi'\n",
    "influencers = respondents.columns.drop([WYBRANY_INFLUENCER])\n",
    "\n",
    "# Najlepszy wynik i najlepsza kombinacja\n",
    "best_score = 0\n",
    "best_combination = None\n",
    "\n",
    "# Generowanie wszystkich kombinacji influencerów\n",
    "combinations = itertools.combinations(influencers, 2)\n",
    "\n",
    "# Iteracja przez wszystkie kombinacje\n",
    "for combo in combinations:\n",
    "    # Obliczenie łącznego zasięgu dla danej kombinacji z \"Tummi\"\n",
    "    combination_score = calculate_bloggers_range(combo[0], combo[1], WYBRANY_INFLUENCER)\n",
    "    # Aktualizacja najlepszego wyniku i kombinacji\n",
    "    if combination_score > best_score:\n",
    "        best_score = combination_score\n",
    "        best_combination = combo\n",
    "\n",
    "# Dodanie 'Tummi' do tupla best_combination\n",
    "best_combination += (\"Tummi\",)\n",
    "\n",
    "# Wyświetlenie najlepszej kombinacji i wyniku\n",
    "print(\"Najlepsza kombinacja influencerów:\", best_combination)\n",
    "print(\"Najlepszy łączny zasięg:\", best_score, \"%\")"
   ]
  },
  {
   "cell_type": "markdown",
   "id": "b77af86b",
   "metadata": {},
   "source": [
    "W przypadku 3 influencerów, wśród których na pewno musi znaleźć się influencer 'Tummi' powinni zostać dodani <b>'Zummi' i 'Gruffi'</b> aby zmaksymalizować zasięg kampanii do <b>86,6%</b>."
   ]
  }
 ],
 "metadata": {
  "kernelspec": {
   "display_name": "Python 3 (ipykernel)",
   "language": "python",
   "name": "python3"
  },
  "language_info": {
   "codemirror_mode": {
    "name": "ipython",
    "version": 3
   },
   "file_extension": ".py",
   "mimetype": "text/x-python",
   "name": "python",
   "nbconvert_exporter": "python",
   "pygments_lexer": "ipython3",
   "version": "3.8.13"
  }
 },
 "nbformat": 4,
 "nbformat_minor": 5
}
